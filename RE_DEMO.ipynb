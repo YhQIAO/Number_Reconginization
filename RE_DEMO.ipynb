{
 "cells": [
  {
   "cell_type": "code",
   "execution_count": 1,
   "metadata": {},
   "outputs": [
    {
     "name": "stdout",
     "output_type": "stream",
     "text": [
      "WARNING:tensorflow:From C:\\Users\\julyfire\\anaconda3\\envs\\AI\\lib\\site-packages\\tensorflow_core\\python\\compat\\v2_compat.py:88: disable_resource_variables (from tensorflow.python.ops.variable_scope) is deprecated and will be removed in a future version.\n",
      "Instructions for updating:\n",
      "non-resource variables are not supported in the long term\n"
     ]
    }
   ],
   "source": [
    "# import libs\n",
    "%matplotlib inline\n",
    "from sklearn.datasets import fetch_openml\n",
    "import matplotlib.pyplot as plt\n",
    "import numpy as np\n",
    "import tensorflow.compat.v1 as tf\n",
    "tf.disable_v2_behavior()"
   ]
  },
  {
   "cell_type": "code",
   "execution_count": 2,
   "metadata": {},
   "outputs": [],
   "source": [
    "# import datasets\n",
    "mnist = fetch_openml('mnist_784')"
   ]
  },
  {
   "cell_type": "code",
   "execution_count": 3,
   "metadata": {},
   "outputs": [],
   "source": [
    "# define input and output\n",
    "with tf.name_scope('input'):\n",
    "    x = tf.placeholder(tf.float32, [None,28,28,1],name = 'x') # input\n",
    "    y = tf.placeholder(tf.float32,[None,10],name = 'y') # output"
   ]
  },
  {
   "cell_type": "code",
   "execution_count": 4,
   "metadata": {},
   "outputs": [],
   "source": [
    "# a module\n",
    "def get_weight(shape):\n",
    "    w_init = tf.random.truncated_normal(shape = shape,mean=0,stddev=0.1)\n",
    "    b_init = tf.random.truncated_normal(shape = [shape[-1]],mean=0,stddev=0.1)\n",
    "    \n",
    "    w = tf.Variable(initial_value = w_init)\n",
    "    b =  tf.Variable(initial_value = b_init)\n",
    "    return w,b"
   ]
  },
  {
   "cell_type": "code",
   "execution_count": 5,
   "metadata": {},
   "outputs": [],
   "source": [
    "# 01\n",
    "# define train variable\n",
    "w1,b1 = get_weight([5,5,1,6]) \n",
    "# define cacu\n",
    "o1 = tf.nn.conv2d(input = x,filter=w1,strides=[1,1,1,1],padding='SAME')\n",
    "o1 = tf.nn.bias_add(o1,b1)\n",
    "o1 = tf.nn.relu(o1)\n",
    "o1 = tf.nn.avg_pool(value=o1, ksize=(1,2,2,1), strides=[1,2,2,1],padding='SAME')"
   ]
  },
  {
   "cell_type": "code",
   "execution_count": 6,
   "metadata": {},
   "outputs": [],
   "source": [
    "# 02\n",
    "# define train variable\n",
    "w2,b2 = get_weight([5,5,6,16]) \n",
    "# define cacu\n",
    "o2 = tf.nn.conv2d(input = o1,filter=w2,strides=[1,1,1,1],padding='VALID')\n",
    "o2 = tf.nn.bias_add(o2,b2)\n",
    "o2 = tf.nn.relu(o2)\n",
    "o2 = tf.nn.avg_pool(value=o2, ksize=(1,2,2,1), strides=[1,2,2,1],padding='SAME')"
   ]
  },
  {
   "cell_type": "code",
   "execution_count": 7,
   "metadata": {},
   "outputs": [],
   "source": [
    "# 03\n",
    "# define train variable\n",
    "w3,b3 = get_weight([5,5,16,120]) \n",
    "# define cacu\n",
    "o3 = tf.nn.conv2d(input = o2,filter=w3,strides=[1,1,1,1],padding='VALID')\n",
    "o3 = tf.nn.bias_add(o3,b3)\n",
    "o3 = tf.nn.relu(o3)\n",
    "o3 = tf.nn.avg_pool(value=o3, ksize=(1,2,2,1), strides=[1,2,2,1],padding='SAME')"
   ]
  },
  {
   "cell_type": "code",
   "execution_count": 8,
   "metadata": {},
   "outputs": [
    {
     "name": "stdout",
     "output_type": "stream",
     "text": [
      "WARNING:tensorflow:From <ipython-input-8-f582b8285fdb>:6: calling dropout (from tensorflow.python.ops.nn_ops) with keep_prob is deprecated and will be removed in a future version.\n",
      "Instructions for updating:\n",
      "Please use `rate` instead of `keep_prob`. Rate should be set to `rate = 1 - keep_prob`.\n"
     ]
    }
   ],
   "source": [
    "# 2d->1d\n",
    "o3 = tf.reshape(o3,[-1,120])\n",
    "w4, b4 = get_weight([120,84])\n",
    "o4 = tf.nn.relu(tf.matmul(o3,w4)+b4)\n",
    "\n",
    "o4 = tf.nn.dropout(o4,0.75)"
   ]
  },
  {
   "cell_type": "code",
   "execution_count": 9,
   "metadata": {},
   "outputs": [],
   "source": [
    "w5, b5 = get_weight([84,10])\n",
    "with tf.name_scope('prediction'):\n",
    "    o5 = tf.nn.softmax(tf.matmul(o4,w5)+b5,name='output')\n",
    "y_ = o5"
   ]
  },
  {
   "cell_type": "code",
   "execution_count": 10,
   "metadata": {},
   "outputs": [],
   "source": [
    "#define loss function\n",
    "loss = tf.losses.sigmoid_cross_entropy(y,y_)\n",
    "optimzer = tf.train.AdamOptimizer(0.0001)\n",
    "trainer = optimzer.minimize(loss)"
   ]
  },
  {
   "cell_type": "code",
   "execution_count": 11,
   "metadata": {},
   "outputs": [
    {
     "name": "stdout",
     "output_type": "stream",
     "text": [
      "data loaded\n"
     ]
    }
   ],
   "source": [
    "# load data\n",
    "\n",
    "# load label\n",
    "result  = mnist.target\n",
    "result = result[:10000]\n",
    "\n",
    "labels = np.zeros(  (len(result),10),  dtype = np.int)\n",
    "for i in range(len(result)):\n",
    "    lb = int(result[i])\n",
    "    labels[i][lb] = 1\n",
    "\n",
    "\n",
    "#load image\n",
    "data = np.zeros( (len(result),28,28,1),np.float32)\n",
    "\n",
    "mnist_image = mnist.data\n",
    "\n",
    "# show number image\n",
    "#plt.imshow(mnist_image[1].reshape(28,28),cmap = 'gray')\n",
    "#plt.show()\n",
    "for i in range(len(result)):\n",
    "    data[i,:,:,0] = mnist_image[i].reshape(28,28)\n",
    "print(\"data loaded\")"
   ]
  },
  {
   "cell_type": "code",
   "execution_count": 12,
   "metadata": {},
   "outputs": [
    {
     "name": "stdout",
     "output_type": "stream",
     "text": [
      "train finshed\n"
     ]
    }
   ],
   "source": [
    "# caculate accuracy rate\n",
    "with tf.name_scope('accuracy'):\n",
    "    correct = tf.equal(tf.argmax(y_,1), tf.argmax(y,1))\n",
    "    accuracy = tf.reduce_mean(tf.cast(correct,'float') ,name='accuracy')\n",
    "\n",
    "# train\n",
    "session = tf.Session()\n",
    "global_v = tf.global_variables()\n",
    "op_init = tf.initializers.variables(global_v)\n",
    "session.run(op_init)\n",
    "\n",
    "TIMES = 100\n",
    "batch_size  = 100\n",
    "batch = len(data) // batch_size\n",
    "correct_rates = []\n",
    "for t in range(TIMES):\n",
    "    loss_result = 0.0\n",
    "    for idx in range(batch):\n",
    "        _, loss_result = session.run(\n",
    "            [trainer,loss],\n",
    "            feed_dict={\n",
    "                x:data[idx*batch_size:(idx+1)*batch_size],\n",
    "                y:labels[idx*batch_size:(idx+1)*batch_size]\n",
    "            }\n",
    "        )\n",
    "    correct_rate = session.run(accuracy,feed_dict={x:data,y:labels})\n",
    "   # print(\"correct rate: %5.2f%% loss:%f\" % (correct_rate*100.0, loss_result))\n",
    "    correct_rates.append(correct_rate)\n",
    "print(\"train finshed\")"
   ]
  },
  {
   "cell_type": "code",
   "execution_count": 13,
   "metadata": {},
   "outputs": [
    {
     "data": {
      "image/png": "[encoded data removed]",
      "text/plain": [
       "<Figure size 576x288 with 1 Axes>"
      ]
     },
     "metadata": {
      "needs_background": "light"
     },
     "output_type": "display_data"
    }
   ],
   "source": [
    "# figure train process\n",
    "figure = plt.figure(figsize=(8,4))\n",
    "ax = figure.add_axes([0.1,0.1,0.8,0.8])\n",
    "ax.plot(range(len(correct_rates)),correct_rates,\n",
    "       color = (0,0,1,1),marker = '.',label = 'correct rate',\n",
    "        markerfacecolor=(1,0,0,1),markeredgecolor = (1,0,0,1),markersize = 3\n",
    "       )\n",
    "ax.set_xbound(lower=-1,upper = len(correct_rates))\n",
    "ax.set_ybound(lower=0,upper=1)\n",
    "plt.legend()\n",
    "plt.show()"
   ]
  },
  {
   "cell_type": "code",
   "execution_count": 14,
   "metadata": {
    "scrolled": false
   },
   "outputs": [
    {
     "name": "stdout",
     "output_type": "stream",
     "text": [
      "[6]\n"
     ]
    },
    {
     "data": {
      "image/png": "[encoded data removed]",
      "text/plain": [
       "<Figure size 432x288 with 1 Axes>"
      ]
     },
     "metadata": {
      "needs_background": "light"
     },
     "output_type": "display_data"
    }
   ],
   "source": [
    "import cv2\n",
    "test = cv2.imread('./6.png')\n",
    "\n",
    "a = np.zeros((28,28,1))\n",
    "a[:,:,0] = test[:,:,1]\n",
    "\n",
    "plt.imshow(a,cmap = 'gray')\n",
    "\n",
    "p_result = tf.argmax(y_,1)\n",
    "r = session.run(p_result,feed_dict={x:[a]})\n",
    "print(r)"
   ]
  },
  {
   "cell_type": "code",
   "execution_count": 15,
   "metadata": {},
   "outputs": [
    {
     "data": {
      "text/plain": [
       "'./model/number'"
      ]
     },
     "execution_count": 15,
     "metadata": {},
     "output_type": "execute_result"
    }
   ],
   "source": [
    "saver = tf.train.Saver()\n",
    "saver.save(session, './model/number')"
   ]
  },
  {
   "cell_type": "code",
   "execution_count": 16,
   "metadata": {},
   "outputs": [
    {
     "name": "stdout",
     "output_type": "stream",
     "text": [
      "INFO:tensorflow:Restoring parameters from ./model\\number\n"
     ]
    }
   ],
   "source": [
    "saver = tf.train.import_meta_graph('./model/number.meta')  # 先加载meta文件，具体到文件名\n",
    "saver.restore(session, tf.train.latest_checkpoint('./model'))  # 加载检查点文件checkpoint，具体到文件夹即可\n",
    "graph = tf.get_default_graph()  # 绘制tensorflow图"
   ]
  },
  {
   "cell_type": "code",
   "execution_count": 17,
   "metadata": {},
   "outputs": [],
   "source": [
    "xs = graph.get_tensor_by_name('input/x:0')  # 获取占位符xs\n",
    "ys = graph.get_tensor_by_name('input/y:0')  # 获取占位符ys\n",
    "output = graph.get_tensor_by_name('prediction/output:0')"
   ]
  },
  {
   "cell_type": "code",
   "execution_count": 20,
   "metadata": {},
   "outputs": [
    {
     "name": "stdout",
     "output_type": "stream",
     "text": [
      "[[1.7079900e-01 9.9835263e-05 1.0188393e-05 1.1998485e-05 4.3881359e-03\n",
      "  1.9712215e-05 7.9639208e-01 1.1462588e-04 2.8149139e-02 1.5331860e-05]]\n"
     ]
    }
   ],
   "source": [
    "result_array = session.run(output, feed_dict={xs:[a]})\n",
    "print(result_array)"
   ]
  },
  {
   "cell_type": "code",
   "execution_count": 21,
   "metadata": {},
   "outputs": [
    {
     "data": {
      "text/plain": [
       "array([6], dtype=int64)"
      ]
     },
     "execution_count": 21,
     "metadata": {},
     "output_type": "execute_result"
    }
   ],
   "source": [
    "np.argmax(result_array,1)"
   ]
  },
  {
   "cell_type": "code",
   "execution_count": null,
   "metadata": {},
   "outputs": [],
   "source": []
  }
 ],
 "metadata": {
  "kernelspec": {
   "display_name": "Python 3",
   "language": "python",
   "name": "python3"
  },
  "language_info": {
   "codemirror_mode": {
    "name": "ipython",
    "version": 3
   },
   "file_extension": ".py",
   "mimetype": "text/x-python",
   "name": "python",
   "nbconvert_exporter": "python",
   "pygments_lexer": "ipython3",
   "version": "3.7.9"
  }
 },
 "nbformat": 4,
 "nbformat_minor": 4
}
